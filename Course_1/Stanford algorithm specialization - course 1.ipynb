{
 "cells": [
  {
   "cell_type": "code",
   "execution_count": 3,
   "metadata": {},
   "outputs": [],
   "source": [
    "import numpy as np\n",
    "import pandas as pd\n",
    "import time\n",
    "import random\n",
    "import copy\n",
    "import math\n",
    "\n",
    "from IPython import display\n",
    "import pylab as pl\n",
    "from tqdm.notebook import tqdm"
   ]
  },
  {
   "cell_type": "markdown",
   "metadata": {},
   "source": [
    "## Week 1: Karatsuba multiplication & merge sort"
   ]
  },
  {
   "cell_type": "markdown",
   "metadata": {},
   "source": [
    "### Karatsuba multiplication\n",
    "\n",
    "Complexity:\n",
    "- recursive calls: $a=3$ per call\n",
    "- input size shrinkage $b=2$ (divide by each call)\n",
    "- combine step $O(n)$ hence $d=1$\n",
    "- finally $a=3 > b^d=2$ hence $O(n^{\\log(3)})$."
   ]
  },
  {
   "cell_type": "code",
   "execution_count": 4,
   "metadata": {},
   "outputs": [],
   "source": [
    "def karatsuba_mul(x, y):\n",
    "    x, y = str(x), str(y)\n",
    "    n_x, n_y = len(x), len(y)\n",
    "    if n_x == n_y == 1:\n",
    "        return int(x) * int(y)\n",
    "    elif n_x < n_y:\n",
    "        x = \"0\" * (n_y - n_x) + x\n",
    "    elif n_y < n_x:\n",
    "        y = \"0\" * (n_x - n_y) + y\n",
    "    n = len(x)\n",
    "    mid = n // 2 \n",
    "    if n % 2 != 0:\n",
    "        mid += 1\n",
    "    a, b = int(x[:mid]), int(x[mid:])\n",
    "    c, d = int(y[:mid]), int(y[mid:])\n",
    "    ac = karatsuba_mul(a, c)\n",
    "    bd = karatsuba_mul(b, d)\n",
    "    k = karatsuba_mul(a + b, c + d) - ac - bd\n",
    "    return int(str(ac) + \"0\" * (n - mid) * 2) + int(str(k) + \"0\" * (n - mid)) + int(bd)"
   ]
  },
  {
   "cell_type": "code",
   "execution_count": 5,
   "metadata": {
    "scrolled": true
   },
   "outputs": [
    {
     "name": "stdout",
     "output_type": "stream",
     "text": [
      "8539734222673567065463550869546574495034888535765114961879601127067743044893204848617875072216249073013374895871952806582723184\n"
     ]
    }
   ],
   "source": [
    "x = 3141592653589793238462643383279502884197169399375105820974944592\n",
    "y = 2718281828459045235360287471352662497757247093699959574966967627\n",
    "\n",
    "print(karatsuba_mul(x, y))"
   ]
  },
  {
   "cell_type": "markdown",
   "metadata": {},
   "source": [
    "### Merge sort\n",
    "\n",
    "Complexity: \n",
    "- $6n$ operations per level\n",
    "- $\\log_2(n)$ recursive calls\n",
    "- Total in time : $6n \\log_2(n) + 6n = O(n\\log(n))$\n",
    "- In memory: $O(n)$ as need not in place"
   ]
  },
  {
   "cell_type": "code",
   "execution_count": 44,
   "metadata": {},
   "outputs": [],
   "source": [
    "def merge_sort(A):\n",
    "\n",
    "    def merge_sort_(A, l, r):\n",
    "        if l < r:\n",
    "            m = (l + r - 1) // 2\n",
    "            merge_sort_(A, l, m)\n",
    "            merge_sort_(A, m+1, r)\n",
    "            combine(A, l, m, r)\n",
    "\n",
    "    def combine(A, l, m, r):\n",
    "        n_l = m - l + 1\n",
    "        n_r = r - m\n",
    "        L = A[l:m+1]\n",
    "        R = A[m+1:r+1]\n",
    "        i, j, k = 0, 0, l\n",
    "        while i < n_l and j < n_r:\n",
    "            if L[i] <= R[j]:\n",
    "                A[k] = L[i]\n",
    "                i += 1\n",
    "            else:\n",
    "                A[k] = R[j]\n",
    "                j += 1\n",
    "            k += 1\n",
    "        while i < n_l:\n",
    "            A[k] = L[i]\n",
    "            k += 1\n",
    "            i += 1\n",
    "        while j < n_r:\n",
    "            A[k] = R[j]\n",
    "            k += 1\n",
    "            j += 1 \n",
    "        \n",
    "    return merge_sort_(A, 0, len(A) - 1)"
   ]
  },
  {
   "cell_type": "code",
   "execution_count": 47,
   "metadata": {},
   "outputs": [],
   "source": [
    "A = np.loadtxt('countinv.txt').tolist()\n",
    "merge_sort(A)\n",
    "# print(A)"
   ]
  },
  {
   "cell_type": "markdown",
   "metadata": {},
   "source": [
    "## Week 2: Divide and conquer - Inversion algorithm and closest pairs"
   ]
  },
  {
   "cell_type": "markdown",
   "metadata": {},
   "source": [
    "### Inversions algorithm\n",
    "\n",
    "Complexity: \n",
    "same as merge sort, $O(n\\log(n))$ in time and $O(n)$ in memory\n"
   ]
  },
  {
   "cell_type": "code",
   "execution_count": 67,
   "metadata": {},
   "outputs": [],
   "source": [
    "def count_inversions(A):\n",
    "    \n",
    "    def sort_and_count_inversions(A, l, r):\n",
    "        if r <= l:\n",
    "            return 0\n",
    "        else:\n",
    "            m = (l + r - 1) // 2\n",
    "            x = sort_and_count_inversions(A, l, m)\n",
    "            y = sort_and_count_inversions(A, m+1, r)\n",
    "            z = combine_and_count_inv_split(A, l, m, r)\n",
    "        return x + y + z\n",
    "\n",
    "    def combine_and_count_inv_split(A, l, m, r):\n",
    "        n_l = m - l + 1\n",
    "        n_r = r - m\n",
    "        L = A[l:m+1]\n",
    "        R = A[m+1:r+1]\n",
    "        i, j, k = 0, 0, l\n",
    "        count = 0\n",
    "        while i < n_l and j < n_r:\n",
    "            if L[i] <= R[j]:\n",
    "                A[k] = L[i]\n",
    "                i += 1\n",
    "            else:\n",
    "                A[k] = R[j]\n",
    "                count += (n_l - i)\n",
    "                j += 1\n",
    "            k += 1\n",
    "        while i < n_l:\n",
    "            A[k] = L[i]\n",
    "            k += 1\n",
    "            i += 1\n",
    "        while j < n_r:\n",
    "            A[k] = R[j]\n",
    "            k += 1\n",
    "            j += 1 \n",
    "        return count\n",
    "    \n",
    "    return sort_and_count_inversions(A, 0, len(A) - 1)"
   ]
  },
  {
   "cell_type": "code",
   "execution_count": 68,
   "metadata": {},
   "outputs": [
    {
     "data": {
      "text/plain": [
       "2407905288"
      ]
     },
     "execution_count": 68,
     "metadata": {},
     "output_type": "execute_result"
    }
   ],
   "source": [
    "A = np.loadtxt('countinv.txt').tolist()\n",
    "# A = [1, 23, 5, 2, 4, 6]\n",
    "count_inversions(A)"
   ]
  },
  {
   "cell_type": "markdown",
   "metadata": {},
   "source": [
    "### Closest pairs algorithm\n",
    "\n",
    "Complexity:\n",
    "- new recursive calls per call $a=2$.\n",
    "- input size shrinkage $b=2$\n",
    "- exponent on combine step $O(n)$ hence $d=1$\n",
    "- Total: $a=b^d$ so $O(n\\log(n))$"
   ]
  },
  {
   "cell_type": "code",
   "execution_count": 100,
   "metadata": {},
   "outputs": [],
   "source": [
    "class closest_pair():\n",
    "    \"\"\" Computes the closest pair of points in P \"\"\"\n",
    "    def closest_pair(self, P):\n",
    "        n = len(P)\n",
    "        if n <= 3:\n",
    "            return brute_force_closest_pair(P)\n",
    "        Px = sorted(P, key=lambda x: x[0])\n",
    "        Py = sorted(P, key=lambda x: x[1])\n",
    "        return self.closest_pair_(Px, Py, n)\n",
    "    \n",
    "    @staticmethod\n",
    "    def dist(x, y):\n",
    "        return np.linalg.norm(x - y) \n",
    "    \n",
    "    def brute_force_closest_pair(self, P):\n",
    "        n = len(P)\n",
    "        min_dist = float('inf')\n",
    "        p, q = None, None\n",
    "        for i in range(n - 1):\n",
    "            for j in range(i + 1, n):\n",
    "                d = self.dist(P[i], P[j])\n",
    "                if min_dist > d:\n",
    "                    min_dist = d\n",
    "                    p, q = (P[i], P[j])\n",
    "        return p, q, min_dist\n",
    "    \n",
    "    def closest_pair_(self, Px, Py, n):\n",
    "        mid = n // 2\n",
    "        if n <= 3:\n",
    "            return self.brute_force_closest_pair(Px)\n",
    "        Qx = Px[:mid]\n",
    "        Rx = Px[mid:]\n",
    "        Qy = []\n",
    "        Ry = []\n",
    "        mid_x = Px[mid][0]\n",
    "        for p in Py:\n",
    "            if p[0] <= mid_x:\n",
    "                Qy.append(p)\n",
    "            else:\n",
    "                Ry.append(p)\n",
    "        p1, q1, dist1 = self.closest_pair_(Qx, Qy, mid)\n",
    "        p2, q2, dist2 = self.closest_pair_(Rx, Ry, n - mid)\n",
    "        if dist1 <= dist2:\n",
    "            best_pair = (p1, q1)\n",
    "            best_dist = dist1\n",
    "        else:\n",
    "            best_pair = (p2, q2)\n",
    "            best_dist = dist2\n",
    "        p3, q3, dist3 = self.closest_pair_split(Px, Py, mid, best_dist, best_pair)\n",
    "        return p3, q3, dist3\n",
    "        \n",
    "    def closest_pair_split(self, Px, Py, mid, best_dist, best_pair):\n",
    "        x_bar = Px[mid-1][0]  # biggest x_coord in left of P\n",
    "        # S_y contains points with x-coord in [x_bar - best_dist, x_bar + best_dist]\n",
    "        S_y = [p for p in Px if x_bar - best_dist <= p[0] <= x_bar + best_dist]\n",
    "        n_S_y = len(S_y)\n",
    "        for i in range(n_S_y - 1):\n",
    "            for j in range(i+1, min(i + 8, n_S_y)):\n",
    "                p, q = S_y[i], S_y[j]\n",
    "                d = self.dist(p, q)\n",
    "                if d < best_dist:\n",
    "                    best_dist = d\n",
    "                    best_pair = (p, q)\n",
    "        return best_pair[0], best_pair[1], best_dist\n",
    "                \n",
    "                "
   ]
  },
  {
   "cell_type": "code",
   "execution_count": 102,
   "metadata": {},
   "outputs": [
    {
     "data": {
      "image/png": "[encoded data removed]",
      "text/plain": [
       "<Figure size 432x288 with 1 Axes>"
      ]
     },
     "metadata": {
      "needs_background": "light"
     },
     "output_type": "display_data"
    },
    {
     "data": {
      "text/plain": [
       "(array([ 622, -117]), array([ 688, -231]), 131.7269904006009)"
      ]
     },
     "execution_count": 102,
     "metadata": {},
     "output_type": "execute_result"
    }
   ],
   "source": [
    "def test_case(length: int = 10000, size: int = 100):\n",
    "    lst1 = [random.randint(-size, size) for i in range(length)]\n",
    "    lst2 = [random.randint(-size, size) for i in range(length)]\n",
    "    P = np.array(list(zip(Px, Py)))\n",
    "    return P\n",
    "\n",
    "P = test_case(length = 10, size = 1000)\n",
    "# print(P)\n",
    "\n",
    "import matplotlib.pyplot as plt\n",
    "plt.scatter(P[:, 0], P[:, 1])\n",
    "plt.show()\n",
    "\n",
    "closest_pair(P)"
   ]
  },
  {
   "cell_type": "markdown",
   "metadata": {},
   "source": [
    "## Week 3: Quick sort\n",
    "\n",
    "Complexity:\n",
    "- with first element pivot: averge $O(n\\log(n))$, worst case $O(n^2)$\n",
    "- with median element pivot: always $O(n\\log(n))$\n",
    "- with random pivot: average $O(n\\log(n))$\n",
    "- Memory complexity: $O(1)$ in place \n",
    "- sometimes unstable"
   ]
  },
  {
   "cell_type": "code",
   "execution_count": 16,
   "metadata": {},
   "outputs": [],
   "source": [
    "class QuickSorter():\n",
    "    def __init__(self, pivot_type = 'median_of_three'):\n",
    "        self._params = {}\n",
    "        self.pivot_type = pivot_type\n",
    "        \n",
    "    def sort(self, A):\n",
    "        \"\"\" Quicksort initialization and accessible function to the user\"\"\"\n",
    "        self.data = A\n",
    "        l, r = 0, len(self.data) - 1\n",
    "        self.count = 0\n",
    "        self.__quicksort(l, r)\n",
    "        self.data = None\n",
    "        return self.count\n",
    "    \n",
    "    def __quicksort(self, l, r):\n",
    "        \"\"\" Quicksort algorithm \"\"\"\n",
    "        if l < r:\n",
    "            p_idx = self.__pivot(l=l, r=r)\n",
    "            p_idx = self.__partition(l, r, p_idx)\n",
    "            self.count += r - l\n",
    "            self.__quicksort(l=l, r=p_idx - 1)\n",
    "            self.__quicksort(l=p_idx + 1, r=r)\n",
    "    \n",
    "    def __partition(self, l, r, p_idx):\n",
    "        \"\"\"Partition step for quicksort\"\"\"\n",
    "        pivot = self.data[p_idx]\n",
    "        self.data[p_idx], self.data[l] = self.data[l], self.data[p_idx] \n",
    "        i = l + 1\n",
    "        for j in range(l + 1, r + 1):\n",
    "            if self.data[j] < pivot:\n",
    "                self.data[j], self.data[i] = self.data[i], self.data[j]\n",
    "                i += 1\n",
    "        self.data[i - 1], self.data[l] = self.data[l], self.data[i - 1]\n",
    "        return i - 1\n",
    "    \n",
    "    @property\n",
    "    def pivot_type(self):\n",
    "        return self._params['pivot_type']\n",
    "    \n",
    "    @pivot_type.setter\n",
    "    def pivot_type(self, pivot_type='median_of_3'):\n",
    "        \"\"\" Set pivot type and pivot function \"\"\"\n",
    "        if pivot_type == 'median_of_three':\n",
    "            self.__pivot = self.__median_of_three  # median of three rule for pivot\n",
    "        elif pivot_type == 'random':\n",
    "            self.__pivot = self.__random_pivot  # random pivot selection\n",
    "        elif pivot_type == 'first':\n",
    "            self.__pivot = self.__first_element  # pivot is fisrt element\n",
    "        elif pivot_type == 'last':\n",
    "            self.__pivot = self.__last_element  # pivot is last element\n",
    "        else:\n",
    "            raise ValueError(\"This pivot type does not exist\")\n",
    "        self._params['pivot_type'] = pivot_type\n",
    "    \n",
    "    @staticmethod\n",
    "    def __first_element(l, r):\n",
    "        \"\"\" Pivot selection: lefter element\"\"\"\n",
    "        return l\n",
    "    \n",
    "    @staticmethod\n",
    "    def __last_element(l, r):\n",
    "        \"\"\" Pivot selection: righter element\"\"\"\n",
    "        return r\n",
    "    \n",
    "    @staticmethod\n",
    "    def __random_pivot(l, r):\n",
    "        \"\"\" Pivot selection: random pivot \"\"\"\n",
    "        return random.randint(l, r)\n",
    "    \n",
    "    def __median_of_three(self, l, r):\n",
    "        \"\"\" pivot selection: median of left, right, and middle elements \"\"\"\n",
    "        m = (l + r) // 2\n",
    "        a = self.data[l]\n",
    "        b = self.data[m]\n",
    "        c = self.data[r]\n",
    "        if (a <= b <= c or c <= b <= a):\n",
    "            return  m\n",
    "        if (a <= c <= b or b <= c <= a):\n",
    "            return r\n",
    "        return l"
   ]
  },
  {
   "cell_type": "code",
   "execution_count": 17,
   "metadata": {},
   "outputs": [
    {
     "data": {
      "text/plain": [
       "164123"
      ]
     },
     "execution_count": 17,
     "metadata": {},
     "output_type": "execute_result"
    }
   ],
   "source": [
    "pivot_type='last'\n",
    "q = QuickSorter(pivot_type=pivot_type)\n",
    "A = np.loadtxt('quicksort.txt').tolist()\n",
    "# print(A)\n",
    "print('comparison count when running quisksort with pivot \"{}\": {}'.format(pivot_type, q.sort(A)))\n",
    "# print(A)"
   ]
  },
  {
   "cell_type": "markdown",
   "metadata": {},
   "source": [
    "## Week 4: Linear time selection, mincut problems "
   ]
  },
  {
   "cell_type": "markdown",
   "metadata": {},
   "source": [
    "### Linear time selection: random and deterministic selection"
   ]
  },
  {
   "cell_type": "code",
   "execution_count": 190,
   "metadata": {},
   "outputs": [],
   "source": [
    "class LinearSelection():\n",
    "    def __init__(self, pivot_type):\n",
    "        self.params = {}\n",
    "        self.pivot_type = pivot_type\n",
    "    \n",
    "    @property\n",
    "    def pivot_type(self):\n",
    "        return self.params['pivot_type']\n",
    "    \n",
    "    @pivot_type.setter\n",
    "    def pivot_type(self, pivot_type):\n",
    "        \"\"\" Set pivot type and pivot function \"\"\"\n",
    "        if pivot_type in 'rd':\n",
    "            self.params['pivot_type'] = pivot_type\n",
    "        else:\n",
    "            raise ValueError(\"This pivot type does not exist\")\n",
    "            \n",
    "    def linear_selection(self, A, i, pivot_type=None):\n",
    "        \"\"\" Initialization and choose R or D select\"\"\"\n",
    "        self.data = A\n",
    "        l, r = 0, len(self.data) - 1\n",
    "        if pivot_type:\n",
    "            self.pivot_type = pivot_type\n",
    "        if self.pivot_type == 'r':\n",
    "            res = self.__R_select(l, r, i)\n",
    "        if self.pivot_type == 'd':\n",
    "            res = self.__D_select(l, r, i)\n",
    "        return res\n",
    "    \n",
    "    def __R_select(self, l, r, i):\n",
    "        \"\"\" Randomized Linear selection algorithm \"\"\"\n",
    "        if i-1 > r:\n",
    "            raise KeyError\n",
    "        elif l == r:\n",
    "            return A[l]\n",
    "        elif l < r:\n",
    "            p_idx = random.randint(l, r - 1)\n",
    "            p_idx = self.__partition(l, r, p_idx)\n",
    "            if p_idx == i - 1:\n",
    "                return A[p_idx]\n",
    "            elif p_idx > i - 1:\n",
    "                return self.__R_select(l, p_idx - 1, i)\n",
    "            else:\n",
    "                return self.__R_select(p_idx + 1, r, i) \n",
    "            \n",
    "    def __D_select(self, l, r, i):\n",
    "        \"\"\" Deterministic Linear selection algorithm \"\"\"\n",
    "#         if i > r:\n",
    "#             raise KeyError\n",
    "#         elif l == r:\n",
    "#             return A[l]\n",
    "#         elif l < r:\n",
    "#             n = r - l\n",
    "#             n_C = n // 5 + n % 5\n",
    "#             C = [sorted(self.data[i:i+5])[2] for i in range(l, r ,5)]\n",
    "#             p_idx = self.__D_select(C, None, None)\n",
    "#             p_idx = self.__partition(l, r, p_idx)\n",
    "#             if p_idx == i - 1:\n",
    "#                 return A[p_idx]\n",
    "#             elif p_idx > i - 1:\n",
    "#                 return self.__D_selection(l, p_idx - 1, i)\n",
    "#             else:\n",
    "#                 return self.__D_selection(p_idx + 1, r, i)\n",
    "        raise NotImplementedError\n",
    "            \n",
    "    def __partition(self, l, r, p_idx):\n",
    "        \"\"\"Partition step for linear selection (same as for quicksort) \"\"\"\n",
    "        pivot = self.data[p_idx]\n",
    "        self.data[p_idx], self.data[l] = self.data[l], self.data[p_idx] \n",
    "        i = l + 1\n",
    "        for j in range(l + 1, r + 1):\n",
    "            if self.data[j] < pivot:\n",
    "                self.data[j], self.data[i] = self.data[i], self.data[j]\n",
    "                i += 1\n",
    "        self.data[i - 1], self.data[l] = self.data[l], self.data[i - 1]\n",
    "        return i - 1\n",
    "        \n",
    "        "
   ]
  },
  {
   "cell_type": "code",
   "execution_count": 191,
   "metadata": {
    "scrolled": false
   },
   "outputs": [
    {
     "data": {
      "text/plain": [
       "1000.0"
      ]
     },
     "execution_count": 191,
     "metadata": {},
     "output_type": "execute_result"
    }
   ],
   "source": [
    "l = LinearSelection(pivot_type='r')\n",
    "A = np.loadtxt('quicksort.txt').tolist()\n",
    "l.linear_selection(A, 1000)"
   ]
  },
  {
   "cell_type": "markdown",
   "metadata": {},
   "source": [
    "### Mincut problem: Karger's algorithm"
   ]
  },
  {
   "cell_type": "code",
   "execution_count": 18,
   "metadata": {},
   "outputs": [],
   "source": [
    "def mincut(V, n=None):\n",
    "    \"\"\" uses karger's algorithms n times to try to find the number of crossing edges in the mincut \"\"\"\n",
    "    \n",
    "    def kargers(V):\n",
    "        while len(V) > 2:\n",
    "            v1 = random.choice(list(V.keys()))\n",
    "            v2 = random.choice(V[v1])\n",
    "            for x in V[v2]:\n",
    "                if x != v1:\n",
    "                    V[x].remove(v2)\n",
    "                    V[x].append(v1)\n",
    "                    V[v1].append(x)\n",
    "            while v2 in V[v1]:\n",
    "                V[v1].remove(v2)\n",
    "            del V[v2]\n",
    "        return len(list(V.values())[0])\n",
    "    \n",
    "    if not n:\n",
    "        n = len(V)**2 * int(np.log(len(V)))\n",
    "    min_crossing = len(V)\n",
    "    for _ in tqdm(range(n), total=n):\n",
    "        G = copy.deepcopy(V)\n",
    "        k = kargers(G)\n",
    "        min_crossing = min(k, min_crossing)\n",
    "    return min_crossing\n",
    "            "
   ]
  },
  {
   "cell_type": "code",
   "execution_count": 19,
   "metadata": {},
   "outputs": [],
   "source": [
    "V_txt = pd.read_csv('KargerMinCut.txt', delimiter='\\t', names=[str(i) for i in range(100)]).values.tolist()\n",
    "V = {}\n",
    "for i in range(len(V_txt)):\n",
    "    vertex = int(V_txt[i][0])\n",
    "    V[vertex] = [int(x) for x in V_txt[i][1:] if not math.isnan(x)]"
   ]
  },
  {
   "cell_type": "code",
   "execution_count": 20,
   "metadata": {},
   "outputs": [
    {
     "data": {
      "application/vnd.jupyter.widget-view+json": {
       "model_id": "7118ebd55b294435a1276000c6990c4b",
       "version_major": 2,
       "version_minor": 0
      },
      "text/plain": [
       "HBox(children=(FloatProgress(value=0.0, max=40000.0), HTML(value='')))"
      ]
     },
     "metadata": {},
     "output_type": "display_data"
    },
    {
     "name": "stdout",
     "output_type": "stream",
     "text": [
      "\n",
      "17\n"
     ]
    }
   ],
   "source": [
    "min_edges = mincut(V, n=200**2)\n",
    "print(min_edges)"
   ]
  }
 ],
 "metadata": {
  "kernelspec": {
   "display_name": "Python 3.7.6 64-bit",
   "language": "python",
   "name": "python37664bitfc8300634b1e462eaa0d9dbf574db025"
  },
  "language_info": {
   "codemirror_mode": {
    "name": "ipython",
    "version": 3
   },
   "file_extension": ".py",
   "mimetype": "text/x-python",
   "name": "python",
   "nbconvert_exporter": "python",
   "pygments_lexer": "ipython3",
   "version": "3.7.9"
  }
 },
 "nbformat": 4,
 "nbformat_minor": 4
}
